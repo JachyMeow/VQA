{
 "cells": [
  {
   "cell_type": "markdown",
   "id": "64ba95d6",
   "metadata": {},
   "source": [
    "# <center> rQCNN"
   ]
  },
  {
   "cell_type": "markdown",
   "id": "03941d5d",
   "metadata": {},
   "source": [
    "conv=2"
   ]
  },
  {
   "cell_type": "code",
   "execution_count": 1,
   "id": "4e1651b9",
   "metadata": {
    "scrolled": false
   },
   "outputs": [
    {
     "data": {
      "text/plain": [
       "('complex128', 'float64')"
      ]
     },
     "execution_count": 1,
     "metadata": {},
     "output_type": "execute_result"
    }
   ],
   "source": [
    "import numpy as np\n",
    "import matplotlib.pyplot as plt\n",
    "import tensorflow as tf\n",
    "import tensorcircuit as tc\n",
    "from jax.config import config\n",
    "#import cotengra as ctg\n",
    "\n",
    "config.update(\"jax_enable_x64\", True)\n",
    "tc.set_backend(\"tensorflow\")\n",
    "tc.set_dtype(\"complex128\")\n",
    "\n",
    "#opt_ctg = ctg.ReusableHyperOptimizer(\n",
    "#    methods=[\"greedy\", \"kahypar\"],\n",
    "#    parallel=\"ray\",\n",
    "#    minimize=\"combo\",\n",
    "#    max_time=10,\n",
    "#    max_repeats=128,\n",
    "#    progbar=True,\n",
    "#)\n",
    "\n",
    "#tc.set_contractor(\"custom\", optimizer=opt_ctg, preprocessing=True)"
   ]
  },
  {
   "cell_type": "markdown",
   "id": "d78b480b",
   "metadata": {},
   "source": [
    "## energy\n",
    "$$ \\hat{H}_{Ising}=J\\sum_{i}{Z_{i}Z_{i+1}}-B_{x}\\sum_{i}{X_{i}} $$"
   ]
  },
  {
   "cell_type": "code",
   "execution_count": 2,
   "id": "fff67346",
   "metadata": {},
   "outputs": [],
   "source": [
    "# j=1, Bx=1\n",
    "def energy(c: tc.Circuit, j: float = 1.0, h: float = 1.0):\n",
    "    e = 0.0\n",
    "    n = c._nqubits\n",
    "    for i in range(n):\n",
    "        e -= h * c.expectation((tc.gates.x(), [i]))  # <X_i>\n",
    "    for i in range(n - 1):  # OBC\n",
    "        e += j * c.expectation(\n",
    "            (tc.gates.z(), [i]), (tc.gates.z(), [i+1])\n",
    "        )  # <Z_i Z_{i+1}>\n",
    "    return tc.backend.real(e)"
   ]
  },
  {
   "cell_type": "markdown",
   "id": "0ad6a7a6",
   "metadata": {},
   "source": [
    "## rQCNN net"
   ]
  },
  {
   "cell_type": "code",
   "execution_count": 6,
   "id": "f0c76a01",
   "metadata": {},
   "outputs": [],
   "source": [
    "def rQCNN(weights):\n",
    "    n = 16\n",
    "    weights = tc.backend.cast(weights, \"complex128\")\n",
    "    c = tc.Circuit(n)\n",
    "    \n",
    "    # pooling layer 1\n",
    "    for i in range(0, n, 2):\n",
    "        c.exp1(i, theta=weights[i], unitary=tc.gates._z_matrix)\n",
    "    for i in range(0, n, 4):\n",
    "        c.cz((i+2)%n, i)    \n",
    "\n",
    "    # convolution layer 1\n",
    "    for i in range(0, n, 2):\n",
    "        c.exp1(i, (i+2)%n, theta=weights[i+8], unitary=tc.gates._xx_matrix)\n",
    "        c.exp1(i, (i+2)%n, theta=weights[i+9], unitary=tc.gates._zz_matrix)    \n",
    "\n",
    "    # pooling layer 2\n",
    "    for i in range(1, n, 2):\n",
    "        c.exp1(i, theta=weights[i+24], unitary=tc.gates._z_matrix)\n",
    "    for i in range(0, n, 2):\n",
    "        c.cz(i+1, i)  \n",
    "        \n",
    "    # convolution layer 2\n",
    "    for i in range(n):\n",
    "        c.exp1(i, (i+1)%n, theta=weights[i*2+32], unitary=tc.gates._xx_matrix)\n",
    "        c.exp1(i, (i+1)%n, theta=weights[i*2+33], unitary=tc.gates._zz_matrix)\n",
    "\n",
    "    # measure\n",
    "    e = energy(c)\n",
    "    return e"
   ]
  },
  {
   "cell_type": "markdown",
   "id": "e9afb1a5",
   "metadata": {},
   "source": [
    "## train"
   ]
  },
  {
   "cell_type": "code",
   "execution_count": 8,
   "id": "873ebd5e",
   "metadata": {
    "scrolled": false
   },
   "outputs": [
    {
     "name": "stdout",
     "output_type": "stream",
     "text": [
      "tf.Tensor(\n",
      "[ 0.97554461  1.27901607 -1.31450956  1.28051616 -0.34666035  1.00002228\n",
      " -0.48871191 -1.2838175   1.23904413 -0.095901  ], shape=(10,), dtype=float64)\n",
      "tf.Tensor(\n",
      "[ -8.98516732  -8.29217112 -13.95429173 -12.98397044  -8.98741656\n",
      " -10.96671463  -8.98691299 -12.91798567 -14.79714958 -10.98676173], shape=(10,), dtype=float64)\n",
      "tf.Tensor(\n",
      "[ -9.          -8.99976782 -14.99999973 -12.99999992  -8.99999764\n",
      " -12.99997242  -8.99997628 -12.99999271 -15.         -11.        ], shape=(10,), dtype=float64)\n",
      "tf.Tensor(\n",
      "[ -9.          -8.99999993 -15.         -12.99999997  -9.\n",
      " -13.          -9.         -13.         -15.         -11.        ], shape=(10,), dtype=float64)\n",
      "tf.Tensor(\n",
      "[ -9.          -9.         -15.         -12.99999999  -9.\n",
      " -13.          -9.         -13.         -15.         -11.        ], shape=(10,), dtype=float64)\n",
      "tf.Tensor([ -9.  -9. -15. -13.  -9. -13.  -9. -13. -15. -11.], shape=(10,), dtype=float64)\n",
      "tf.Tensor([ -9.  -9. -15. -13.  -9. -13.  -9. -13. -15. -11.], shape=(10,), dtype=float64)\n",
      "tf.Tensor(\n",
      "[ -8.99999778  -9.         -15.         -13.          -9.\n",
      " -13.          -9.         -13.         -15.         -11.        ], shape=(10,), dtype=float64)\n",
      "tf.Tensor(\n",
      "[ -9.          -9.         -15.         -13.          -9.\n",
      " -13.          -9.         -13.         -14.99999804 -11.        ], shape=(10,), dtype=float64)\n",
      "tf.Tensor(\n",
      "[ -9.          -9.         -14.99999623 -13.          -9.\n",
      " -13.          -9.         -13.         -15.         -11.        ], shape=(10,), dtype=float64)\n"
     ]
    }
   ],
   "source": [
    "vqe_tfim_vag = tc.backend.jit(\n",
    "    tc.backend.vectorized_value_and_grad(rQCNN), static_argnums=(1, 2)\n",
    ")\n",
    "\n",
    "def batched_train_step_tf(batch, maxiter=10000):\n",
    "    weights = tf.Variable(\n",
    "        initial_value=tf.random.normal(\n",
    "            shape=[batch, 64], stddev=1, dtype=getattr(tf, tc.rdtypestr)\n",
    "        )\n",
    "    )\n",
    "    opt = tf.keras.optimizers.Adam(0.005)\n",
    "    lowest_energy = 1e5\n",
    "    for i in range(maxiter):\n",
    "        e, grad = vqe_tfim_vag(weights)\n",
    "        opt.apply_gradients([(grad, weights)])\n",
    "        if tf.reduce_min(e)<lowest_energy:\n",
    "            lowest_energy = tf.reduce_min(e)\n",
    "        if i % 200 == 0:\n",
    "            print(e)\n",
    "    return lowest_energy\n",
    "\n",
    "energy = batched_train_step_tf(10, 2000)  # batch_size, maxiter"
   ]
  },
  {
   "cell_type": "markdown",
   "id": "c5a7cdb0",
   "metadata": {},
   "source": [
    "## compare"
   ]
  },
  {
   "cell_type": "code",
   "execution_count": 9,
   "id": "8f8695c0",
   "metadata": {},
   "outputs": [
    {
     "name": "stdout",
     "output_type": "stream",
     "text": [
      "SWEEP-1, direction=R, max_bond=(10/10), cutoff:1e-10\n"
     ]
    },
    {
     "name": "stderr",
     "output_type": "stream",
     "text": [
      "100%|##########################################| 15/15 [00:00<00:00, 120.37it/s]"
     ]
    },
    {
     "name": "stdout",
     "output_type": "stream",
     "text": [
      "Energy: -8.475459959874728 ... not converged.\n",
      "SWEEP-2, direction=R, max_bond=(10/20), cutoff:1e-10\n"
     ]
    },
    {
     "name": "stderr",
     "output_type": "stream",
     "text": [
      "\n",
      "100%|##########################################| 15/15 [00:00<00:00, 384.61it/s]"
     ]
    },
    {
     "name": "stdout",
     "output_type": "stream",
     "text": [
      "Energy: -8.475463007473897 ... not converged.\n",
      "SWEEP-3, direction=R, max_bond=(6/100), cutoff:1e-10\n"
     ]
    },
    {
     "name": "stderr",
     "output_type": "stream",
     "text": [
      "\n",
      "100%|##########################################| 15/15 [00:00<00:00, 442.93it/s]"
     ]
    },
    {
     "name": "stdout",
     "output_type": "stream",
     "text": [
      "Energy: -8.475463007532024 ... converged!\n",
      "\n",
      "\n",
      "numerical solution:  -8.475463007532024\n",
      "    rQCNN solution:  -15.00000000000003\n"
     ]
    },
    {
     "name": "stderr",
     "output_type": "stream",
     "text": [
      "\n"
     ]
    }
   ],
   "source": [
    "# numerical\n",
    "import quimb\n",
    "h = quimb.tensor.tensor_gen.MPO_ham_ising(16, 1.0, 1.0, cyclic=False)  # Ising Hamiltonian in MPO form (number, zz interaction strenth, x-magnetic field strenth)\n",
    "dmrg = quimb.tensor.tensor_dmrg.DMRG2(h, bond_dims=[10, 20, 100, 100, 200], cutoffs=1e-10)\n",
    "energy0 = dmrg.solve(tol=1e-9, verbosity=1)\n",
    "energy0 = dmrg.energy\n",
    "\n",
    "#compare\n",
    "print(\"\\n\")\n",
    "print(\"numerical solution: \", energy0)\n",
    "print(\"    rQCNN solution: \", energy.numpy())"
   ]
  },
  {
   "cell_type": "code",
   "execution_count": null,
   "id": "cd0d9cf0",
   "metadata": {},
   "outputs": [],
   "source": []
  }
 ],
 "metadata": {
  "kernelspec": {
   "display_name": "Python 3 (ipykernel)",
   "language": "python",
   "name": "python3"
  },
  "language_info": {
   "codemirror_mode": {
    "name": "ipython",
    "version": 3
   },
   "file_extension": ".py",
   "mimetype": "text/x-python",
   "name": "python",
   "nbconvert_exporter": "python",
   "pygments_lexer": "ipython3",
   "version": "3.9.12"
  }
 },
 "nbformat": 4,
 "nbformat_minor": 5
}
